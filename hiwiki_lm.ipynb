{
 "cells": [
  {
   "cell_type": "markdown",
   "metadata": {},
   "source": [
    "# Hindi2vec Language Model Pre-training\n",
    "\n",
    "The goal of this notebook is to train a language model using the [fast.ai](http://www.fast.ai/) version of [AWD LSTM Language Model](https://arxiv.org/abs/1708.02182), with data from [Hindi Wikipedia Dump](https://dumps.wikimedia.org/hiwiki/latest/hiwiki-latest-pages-articles.xml.bz2). \n",
    "\n",
    "## EDIT THIS \n",
    "# TK\n",
    "Using 40M/200k/200k tokens of train-validation-test split, we achieved validation perplexity of **27.81627 with 60,004 embeddings at 400 dimensions**, compared to state-of-the-art as of October 27, 2018 at **42.41 for English WikiText-2 by [Yang et al (2018)](https://arxiv.org/abs/1711.03953)**. To the best of our knowledge, there is no comparable research in Thai language at the point of writing (February 17, 2019).\n",
    "\n",
    "Our workflow is as follows:\n",
    "\n",
    "* Retrieve and process [Thai Wikipedia Dump](https://dumps.wikimedia.org/thwiki/latest/thwiki-latest-pages-articles.xml.bz2) according to [n-waves/ulmfit-multilingual](https://github.com/n-waves/ulmfit-multilingual)\n",
    "* Perform 40M/200k/200k tokens of train-validation-test split split\n",
    "* Minimal text cleaning and tokenization using `newmm` with frozen dictionary (`engine='ulmfit'`) of [pyThaiNLP](https://github.com/pyThaiNLP/pythainlp/)\n",
    "* Train language model\n",
    "* Evaluate model based on perplexity and eyeballing\n",
    "* Extract embeddings to use as \"word2vec\""
   ]
  },
  {
   "cell_type": "markdown",
   "metadata": {},
   "source": [
    "## Imports"
   ]
  },
  {
   "cell_type": "code",
   "execution_count": null,
   "metadata": {
    "ExecuteTime": {
     "end_time": "2018-01-25T03:30:25.407566Z",
     "start_time": "2018-01-25T03:30:21.597641Z"
    }
   },
   "outputs": [],
   "source": [
    "%reload_ext autoreload\n",
    "%autoreload 2\n",
    "%matplotlib inline\n",
    "\n",
    "from fastai import *    \n",
    "from fastai.text import * \n",
    "from fastai.callbacks import CSVLogger\n",
    "\n",
    "lang = \"hi\""
   ]
  },
  {
   "cell_type": "markdown",
   "metadata": {},
   "source": [
    "## Text Cleaning"
   ]
  },
  {
   "cell_type": "code",
   "execution_count": null,
   "metadata": {},
   "outputs": [],
   "source": [
    "# Download the Wikipedia dump, \n",
    "# Uncomment when running for the first time\n",
    "# url = f\"https://dumps.wikimedia.org/{lang}wiki/latest/{lang}wiki-latest-pages-articles.xml.bz2\"\n",
    "# !wget -c $url"
   ]
  },
  {
   "cell_type": "code",
   "execution_count": null,
   "metadata": {},
   "outputs": [],
   "source": [
    "# Extract the bz2 file\n",
    "filename = f\"{lang}wiki-latest-pages-articles.xml\"\n",
    "compressed_filename = filename+\".bz2\"\n",
    "# Uncomment when running for the first time\n",
    "# !bzip2 -dk $compressed_filename"
   ]
  },
  {
   "cell_type": "code",
   "execution_count": null,
   "metadata": {},
   "outputs": [],
   "source": [
    "# Uncomment when running for the first time\n",
    "# !git clone https://github.com/n-waves/ulmfit-multilingual"
   ]
  },
  {
   "cell_type": "markdown",
   "metadata": {},
   "source": [
    "We follow the dataset creation, pre- and post-processing of [n-waves/ulmfit-multilingual](https://github.com/n-waves/ulmfit-multilingual):\n",
    "\n",
    "* `ulmfit/create_wikitext.py` - Download thwiki in json format and separate them into 40M/200k/200k tokens of train-validation-test split. Articles with least than 100 tokens are removed. Also perform tokenization with whitespaces as separators.\n",
    "* `ulmfit/postprocess_wikitext.py` - Replace numbers and replace out-of-vocabulary tokens with `xxunk` (frequency of less than 3).\n",
    "\n",
    "We replaced the Moses Tokenizer with the following code to use [pyThaiNLP](https://github.com/pyThaiNLP/pythainlp/)'s `newmm` dictionary-based tokenizer with a frozen dictionary instead. We join the tokens within an article together to be tokenized later by the data bunch."
   ]
  },
  {
   "cell_type": "code",
   "execution_count": null,
   "metadata": {},
   "outputs": [],
   "source": [
    "# Uncomment when running for the first time\n",
    "# !git clone https://github.com/attardi/wikiextractor/"
   ]
  },
  {
   "cell_type": "code",
   "execution_count": null,
   "metadata": {},
   "outputs": [],
   "source": [
    "!cat wikiextractor/README.md"
   ]
  },
  {
   "cell_type": "code",
   "execution_count": 41,
   "metadata": {},
   "outputs": [
    {
     "name": "stdout",
     "output_type": "stream",
     "text": [
      "wikiextractor/WikiExtractor.py:2432: DeprecationWarning: Flags not at the start of the expression '\\\\[(((?i)bitcoin:|ftp' (truncated)\n",
      "  re.S | re.U)\n",
      "wikiextractor/WikiExtractor.py:2439: DeprecationWarning: Flags not at the start of the expression '^(http://|https://)(' (truncated)\n",
      "  re.X | re.S | re.U)\n",
      "wikiextractor/WikiExtractor.py:645: DeprecationWarning: The 'warn' function is deprecated, use 'warning' instead\n",
      "  self.title, self.id, *errs)\n",
      "WARNING: Template errors in article 'अमीरात' (66023): title(1) recursion(0, 0, 0)\n",
      "wikiextractor/WikiExtractor.py:645: DeprecationWarning: The 'warn' function is deprecated, use 'warning' instead\n",
      "  self.title, self.id, *errs)\n",
      "WARNING: Template errors in article 'पाकिस्तान की राष्ट्रीय सभा' (123118): title(1) recursion(0, 0, 0)\n",
      "WARNING: Template errors in article 'प्रथम आंग्ल-बर्मी युद्ध' (248956): title(1) recursion(0, 0, 0)\n",
      "wikiextractor/WikiExtractor.py:645: DeprecationWarning: The 'warn' function is deprecated, use 'warning' instead\n",
      "  self.title, self.id, *errs)\n",
      "WARNING: Template errors in article 'मजलिस-ए-शूरा' (637466): title(1) recursion(0, 0, 0)\n",
      "WARNING: Template errors in article 'कृष्णगौड़ ब्राह्मण' (694111): title(1) recursion(0, 0, 0)\n",
      "WARNING: Template errors in article 'जोन बायज़' (812423): title(1) recursion(0, 0, 0)\n"
     ]
    }
   ],
   "source": [
    "# Uncomment when running for the first time, this can take a few minutes\n",
    "# This is run in quiet mode, remove --quiet if you want to see progress status\n",
    "\n",
    "# !python wikiextractor/WikiExtractor.py $filename -o data/wiki_extr --json --quiet"
   ]
  },
  {
   "cell_type": "code",
   "execution_count": 42,
   "metadata": {},
   "outputs": [
    {
     "name": "stdout",
     "output_type": "stream",
     "text": [
      "data/wiki_extr/AA:\r\n",
      "wiki_00  wiki_12  wiki_24  wiki_36  wiki_48  wiki_60  wiki_72  wiki_84\twiki_96\r\n",
      "wiki_01  wiki_13  wiki_25  wiki_37  wiki_49  wiki_61  wiki_73  wiki_85\twiki_97\r\n",
      "wiki_02  wiki_14  wiki_26  wiki_38  wiki_50  wiki_62  wiki_74  wiki_86\twiki_98\r\n",
      "wiki_03  wiki_15  wiki_27  wiki_39  wiki_51  wiki_63  wiki_75  wiki_87\twiki_99\r\n",
      "wiki_04  wiki_16  wiki_28  wiki_40  wiki_52  wiki_64  wiki_76  wiki_88\r\n",
      "wiki_05  wiki_17  wiki_29  wiki_41  wiki_53  wiki_65  wiki_77  wiki_89\r\n",
      "wiki_06  wiki_18  wiki_30  wiki_42  wiki_54  wiki_66  wiki_78  wiki_90\r\n",
      "wiki_07  wiki_19  wiki_31  wiki_43  wiki_55  wiki_67  wiki_79  wiki_91\r\n",
      "wiki_08  wiki_20  wiki_32  wiki_44  wiki_56  wiki_68  wiki_80  wiki_92\r\n",
      "wiki_09  wiki_21  wiki_33  wiki_45  wiki_57  wiki_69  wiki_81  wiki_93\r\n",
      "wiki_10  wiki_22  wiki_34  wiki_46  wiki_58  wiki_70  wiki_82  wiki_94\r\n",
      "wiki_11  wiki_23  wiki_35  wiki_47  wiki_59  wiki_71  wiki_83  wiki_95\r\n",
      "\r\n",
      "data/wiki_extr/AB:\r\n",
      "wiki_00  wiki_12  wiki_24  wiki_36  wiki_48  wiki_60  wiki_72  wiki_84\twiki_96\r\n",
      "wiki_01  wiki_13  wiki_25  wiki_37  wiki_49  wiki_61  wiki_73  wiki_85\twiki_97\r\n",
      "wiki_02  wiki_14  wiki_26  wiki_38  wiki_50  wiki_62  wiki_74  wiki_86\twiki_98\r\n",
      "wiki_03  wiki_15  wiki_27  wiki_39  wiki_51  wiki_63  wiki_75  wiki_87\twiki_99\r\n",
      "wiki_04  wiki_16  wiki_28  wiki_40  wiki_52  wiki_64  wiki_76  wiki_88\r\n",
      "wiki_05  wiki_17  wiki_29  wiki_41  wiki_53  wiki_65  wiki_77  wiki_89\r\n",
      "wiki_06  wiki_18  wiki_30  wiki_42  wiki_54  wiki_66  wiki_78  wiki_90\r\n",
      "wiki_07  wiki_19  wiki_31  wiki_43  wiki_55  wiki_67  wiki_79  wiki_91\r\n",
      "wiki_08  wiki_20  wiki_32  wiki_44  wiki_56  wiki_68  wiki_80  wiki_92\r\n",
      "wiki_09  wiki_21  wiki_33  wiki_45  wiki_57  wiki_69  wiki_81  wiki_93\r\n",
      "wiki_10  wiki_22  wiki_34  wiki_46  wiki_58  wiki_70  wiki_82  wiki_94\r\n",
      "wiki_11  wiki_23  wiki_35  wiki_47  wiki_59  wiki_71  wiki_83  wiki_95\r\n",
      "\r\n",
      "data/wiki_extr/AC:\r\n",
      "wiki_00  wiki_12  wiki_24  wiki_36  wiki_48  wiki_60  wiki_72  wiki_84\twiki_96\r\n",
      "wiki_01  wiki_13  wiki_25  wiki_37  wiki_49  wiki_61  wiki_73  wiki_85\twiki_97\r\n",
      "wiki_02  wiki_14  wiki_26  wiki_38  wiki_50  wiki_62  wiki_74  wiki_86\twiki_98\r\n",
      "wiki_03  wiki_15  wiki_27  wiki_39  wiki_51  wiki_63  wiki_75  wiki_87\twiki_99\r\n",
      "wiki_04  wiki_16  wiki_28  wiki_40  wiki_52  wiki_64  wiki_76  wiki_88\r\n",
      "wiki_05  wiki_17  wiki_29  wiki_41  wiki_53  wiki_65  wiki_77  wiki_89\r\n",
      "wiki_06  wiki_18  wiki_30  wiki_42  wiki_54  wiki_66  wiki_78  wiki_90\r\n",
      "wiki_07  wiki_19  wiki_31  wiki_43  wiki_55  wiki_67  wiki_79  wiki_91\r\n",
      "wiki_08  wiki_20  wiki_32  wiki_44  wiki_56  wiki_68  wiki_80  wiki_92\r\n",
      "wiki_09  wiki_21  wiki_33  wiki_45  wiki_57  wiki_69  wiki_81  wiki_93\r\n",
      "wiki_10  wiki_22  wiki_34  wiki_46  wiki_58  wiki_70  wiki_82  wiki_94\r\n",
      "wiki_11  wiki_23  wiki_35  wiki_47  wiki_59  wiki_71  wiki_83  wiki_95\r\n",
      "\r\n",
      "data/wiki_extr/AD:\r\n",
      "wiki_00  wiki_11  wiki_22  wiki_33  wiki_44  wiki_55  wiki_66  wiki_77\twiki_88\r\n",
      "wiki_01  wiki_12  wiki_23  wiki_34  wiki_45  wiki_56  wiki_67  wiki_78\twiki_89\r\n",
      "wiki_02  wiki_13  wiki_24  wiki_35  wiki_46  wiki_57  wiki_68  wiki_79\twiki_90\r\n",
      "wiki_03  wiki_14  wiki_25  wiki_36  wiki_47  wiki_58  wiki_69  wiki_80\r\n",
      "wiki_04  wiki_15  wiki_26  wiki_37  wiki_48  wiki_59  wiki_70  wiki_81\r\n",
      "wiki_05  wiki_16  wiki_27  wiki_38  wiki_49  wiki_60  wiki_71  wiki_82\r\n",
      "wiki_06  wiki_17  wiki_28  wiki_39  wiki_50  wiki_61  wiki_72  wiki_83\r\n",
      "wiki_07  wiki_18  wiki_29  wiki_40  wiki_51  wiki_62  wiki_73  wiki_84\r\n",
      "wiki_08  wiki_19  wiki_30  wiki_41  wiki_52  wiki_63  wiki_74  wiki_85\r\n",
      "wiki_09  wiki_20  wiki_31  wiki_42  wiki_53  wiki_64  wiki_75  wiki_86\r\n",
      "wiki_10  wiki_21  wiki_32  wiki_43  wiki_54  wiki_65  wiki_76  wiki_87\r\n"
     ]
    }
   ],
   "source": [
    "!ls data/wiki_extr/*"
   ]
  },
  {
   "cell_type": "code",
   "execution_count": 43,
   "metadata": {},
   "outputs": [
    {
     "name": "stdout",
     "output_type": "stream",
     "text": [
      "Writing to data/wiki/hi-2/hi.wiki.train.tokens...\n",
      "Processed 10,000 documents. Total # tokens: 1,912,375.\n",
      "data/wiki/hi-2/hi.wiki.train.tokens. # documents: 11,947. # tokens: 2,000,063.\n",
      "Copying data/wiki/hi-2/hi.wiki.train.tokens to data/wiki/hi-100/hi.wiki.train.tokens & data/wiki/hi-all/hi.wiki.train.tokens.\n",
      "Writing to data/wiki/hi-2/hi.wiki.valid.tokens...\n",
      "data/wiki/hi-2/hi.wiki.valid.tokens. # documents: 242. # tokens: 200,986.\n",
      "Copying data/wiki/hi-2/hi.wiki.valid.tokens to data/wiki/hi-100/hi.wiki.valid.tokens & data/wiki/hi-all/hi.wiki.valid.tokens.\n",
      "Writing to data/wiki/hi-2/hi.wiki.test.tokens...\n",
      "data/wiki/hi-2/hi.wiki.test.tokens. # documents: 154. # tokens: 204,765.\n",
      "Copying data/wiki/hi-2/hi.wiki.test.tokens to data/wiki/hi-100/hi.wiki.test.tokens & data/wiki/hi-all/hi.wiki.test.tokens.\n",
      "Writing to data/wiki/hi-100/hi.wiki.train.tokens...\n",
      "Processed 10,000 documents. Total # tokens: 4,134,864.\n",
      "Processed 30,000 documents. Total # tokens: 11,013,897.\n",
      "Processed 40,000 documents. Total # tokens: 15,473,725.\n",
      "Processed 50,000 documents. Total # tokens: 20,767,058.\n",
      "Processed 70,000 documents. Total # tokens: 30,358,224.\n",
      "Processed 80,000 documents. Total # tokens: 33,984,566.\n",
      "Processed 110,000 documents. Total # tokens: 41,708,763.\n",
      "data/wiki/hi-100/hi.wiki.train.tokens. # documents: 112,225. # tokens: 42,471,286.\n",
      "Writing to data/wiki/hi-all/hi.wiki.train.tokens...\n",
      "data/wiki/hi-all/hi.wiki.train.tokens. # documents: 0. # tokens: 0.\n"
     ]
    }
   ],
   "source": [
    "!python ulmfit-multilingual/ulmfit/create_wikitext.py -i data/wiki_extr/ -o data/wiki/ -l hi"
   ]
  },
  {
   "cell_type": "code",
   "execution_count": 44,
   "metadata": {},
   "outputs": [
    {
     "name": "stdout",
     "output_type": "stream",
     "text": [
      "4364 data/wiki/hi-2/hi.wiki.valid.tokens\r\n"
     ]
    }
   ],
   "source": [
    "!wc -l data/wiki/hi-2/hi.wiki.valid.tokens"
   ]
  },
  {
   "cell_type": "code",
   "execution_count": 45,
   "metadata": {},
   "outputs": [],
   "source": [
    "data_path = f\"data/wiki/{lang}-2/\"\n",
    "model_path = f\"models/wiki/{lang}-2\"\n",
    "assert Path(data_path).exists()"
   ]
  },
  {
   "cell_type": "code",
   "execution_count": 50,
   "metadata": {},
   "outputs": [],
   "source": [
    "def istitle(line):\n",
    "    return len(re.findall(r'^ ?=\\|[^=]*\\|= ?$', line)) != 0\n",
    "\n",
    "def read_wiki_articles(filename):\n",
    "    articles = []\n",
    "    with open(filename, encoding='utf8') as f:\n",
    "        lines = f.readlines()\n",
    "    current_article = []\n",
    "    for i,line in enumerate(lines):\n",
    "        current_article.append(line)\n",
    "        if i < len(lines)-2 and lines[i+1].strip() == \"\" and istitle(lines[i+2]):\n",
    "            articles.append(\"\".join(current_article))\n",
    "            current_article = []\n",
    "        articles.append(\"\".join(current_article))\n",
    "#     print(current_article[:10])\n",
    "    print(f\"Wiki text was split to {len(articles)} articles\")\n",
    "    return pd.DataFrame({'texts': np.array(articles, dtype=np.object)})"
   ]
  },
  {
   "cell_type": "code",
   "execution_count": null,
   "metadata": {},
   "outputs": [],
   "source": [
    "#last line is corrupted\n",
    "train_df = read_wiki_articles(f'{data_path}{lang}.wiki.train.tokens').iloc[:-1,:]\n",
    "valid_df = read_wiki_articles(f'{data_path}{lang}.wiki.valid.tokens').iloc[:-1,:]\n",
    "test_df = read_wiki_articles(f'{data_path}{lang}.wiki.test.tokens').iloc[:-1,:]\n",
    "train_df.shape, valid_df.shape, test_df.shape"
   ]
  },
  {
   "cell_type": "code",
   "execution_count": 49,
   "metadata": {},
   "outputs": [
    {
     "data": {
      "text/html": [
       "<div>\n",
       "<style scoped>\n",
       "    .dataframe tbody tr th:only-of-type {\n",
       "        vertical-align: middle;\n",
       "    }\n",
       "\n",
       "    .dataframe tbody tr th {\n",
       "        vertical-align: top;\n",
       "    }\n",
       "\n",
       "    .dataframe thead th {\n",
       "        text-align: right;\n",
       "    }\n",
       "</style>\n",
       "<table border=\"1\" class=\"dataframe\">\n",
       "  <thead>\n",
       "    <tr style=\"text-align: right;\">\n",
       "      <th></th>\n",
       "      <th>texts</th>\n",
       "    </tr>\n",
       "  </thead>\n",
       "  <tbody>\n",
       "  </tbody>\n",
       "</table>\n",
       "</div>"
      ],
      "text/plain": [
       "Empty DataFrame\n",
       "Columns: [texts]\n",
       "Index: []"
      ]
     },
     "execution_count": 49,
     "metadata": {},
     "output_type": "execute_result"
    }
   ],
   "source": [
    "len(train_df)"
   ]
  },
  {
   "cell_type": "code",
   "execution_count": 30,
   "metadata": {},
   "outputs": [],
   "source": [
    "#join tokens together, I think this is unique to Thai tokenization\n",
    "train_df['texts'] = train_df.texts.map(lambda x: ''.join(x.split('|')))\n",
    "valid_df['texts'] = valid_df.texts.map(lambda x: ''.join(x.split('|')))\n",
    "test_df['texts'] = test_df.texts.map(lambda x: ''.join(x.split('|')))"
   ]
  },
  {
   "cell_type": "code",
   "execution_count": 32,
   "metadata": {},
   "outputs": [
    {
     "data": {
      "text/plain": [
       "Series([], Name: texts, dtype: object)"
      ]
     },
     "execution_count": 32,
     "metadata": {},
     "output_type": "execute_result"
    }
   ],
   "source": [
    "train_df['texts']"
   ]
  },
  {
   "cell_type": "markdown",
   "metadata": {},
   "source": [
    "## Data Preparation\n",
    "\n",
    "We used the `newmm` engine of `pyThaiNLP` to perform tokenization. Out of randomnum tokens from all of training set, we chose 60,000 embeddings (plus two for unknown and padding) of tokens which appeared more than twice (not typos) in the training set.\n",
    "\n",
    "\n",
    "We perform the following text processing:\n",
    "\n",
    "* Fix html tags to plain texts\n",
    "* Lowercase all English words and if a word is written in all caps, we put it in a lower case and add `xxup` before\n",
    "* Repetitive characters: Thai usually emphasizes adjectives by repeating the last character such as `อร่อยมากกกกกกก` to `อร่อยมาก xxrep 7 ` so that the word still retains its original form. \n",
    "* Normalize character order: for instance `นำ้` to `น้ำ`\n",
    "* Add spaces around / and #\n",
    "* Remove multiple spaces and newlines\n",
    "* Remove empty brackets of all types (`([{`) which might result from cleaning up\n",
    "* `pyThaiNLP`'s `newmm` word tokenizer with frozen dictionary (`engine ='ulmfit'`)  is used to tokenize the texts."
   ]
  },
  {
   "cell_type": "markdown",
   "metadata": {},
   "source": [
    "### Thai Tokenizer"
   ]
  },
  {
   "cell_type": "markdown",
   "metadata": {},
   "source": [
    "We use the `newmm` tokenizer with a dictionary frozen as of 2018-10-23."
   ]
  },
  {
   "cell_type": "code",
   "execution_count": 33,
   "metadata": {
    "ExecuteTime": {
     "end_time": "2018-01-24T15:50:02.035245Z",
     "start_time": "2018-01-24T15:50:01.940191Z"
    }
   },
   "outputs": [
    {
     "data": {
      "text/plain": [
       "['วิทยาศาสตร์',\n",
       " 'ดาวเคราะห์',\n",
       " 'เป็น',\n",
       " 'สาขาวิชา',\n",
       " 'ที่',\n",
       " 'ศึกษา',\n",
       " 'เกี่ยวกับ',\n",
       " 'องค์ประกอบ',\n",
       " 'ของ',\n",
       " 'ดาวเคราะห์']"
      ]
     },
     "execution_count": 33,
     "metadata": {},
     "output_type": "execute_result"
    }
   ],
   "source": [
    "text='วิทยาศาสตร์ดาวเคราะห์เป็นสาขาวิชาที่ศึกษาเกี่ยวกับองค์ประกอบของดาวเคราะห์'\n",
    "a = word_tokenize(text,engine='ulmfit')\n",
    "a"
   ]
  },
  {
   "cell_type": "code",
   "execution_count": 4,
   "metadata": {},
   "outputs": [],
   "source": [
    "#integrated into pythainlp.ulmfit.utils\n",
    "from fastai.text.transform import *\n",
    "from pythainlp.tokenize import word_tokenize\n",
    "from pythainlp.util import normalize as normalize_char_order\n",
    "\n",
    "class ThaiTokenizer(BaseTokenizer):\n",
    "    \"Wrapper around a newmm tokenizer to make it a `BaseTokenizer`.\"\n",
    "    def __init__(self, lang = 'th'):\n",
    "        self.lang = lang\n",
    "    def tokenizer(self, t):\n",
    "        return word_tokenize(t,engine='ulmfit')\n",
    "    def add_special_cases(self, toks):\n",
    "        pass\n",
    "    \n",
    "def replace_rep_after(t):\n",
    "    \"Replace repetitions at the character level in `t` after the repetition\"\n",
    "    def _replace_rep(m):\n",
    "        c,cc = m.groups()\n",
    "        return f'{c} {TK_REP} {len(cc)+1} '\n",
    "    re_rep = re.compile(r'(\\S)(\\1{3,})')\n",
    "    return re_rep.sub(_replace_rep, t)\n",
    "\n",
    "def rm_useless_newlines(t):\n",
    "    \"Remove multiple newlines in `t`.\"\n",
    "    return re.sub('[\\n]{2,}', ' ', t)\n",
    "\n",
    "def rm_brackets(t):\n",
    "    \"Remove all empty brackets from `t`.\"\n",
    "    new_line = re.sub('\\(\\)','',t)\n",
    "    new_line = re.sub('\\{\\}','',new_line)\n",
    "    new_line = re.sub('\\[\\]','',new_line)\n",
    "    return(new_line)\n",
    "\n",
    "#in case we want to add more specific rules for thai\n",
    "pre_rules_th = [fix_html, replace_rep_after, normalize_char_order, \n",
    "                spec_add_spaces, rm_useless_spaces, rm_useless_newlines, rm_brackets]\n",
    "post_rules_th = [replace_all_caps, deal_caps]"
   ]
  },
  {
   "cell_type": "markdown",
   "metadata": {},
   "source": [
    "### Data Bunch"
   ]
  },
  {
   "cell_type": "markdown",
   "metadata": {},
   "source": [
    "We trained the language model based on 40M/200k/200k tokens of train-validation-test split from [Thai Wikipedia Dump](https://dumps.wikimedia.org/thwiki/latest/thwiki-latest-pages-articles.xml.bz2). Tokens are generated and numericalized filtering all words with frequency more than 3 and at maximum vocab size of 60,000 (plus unknown and padding tokens)."
   ]
  },
  {
   "cell_type": "code",
   "execution_count": 5,
   "metadata": {},
   "outputs": [],
   "source": [
    "tt = Tokenizer(tok_func = ThaiTokenizer, lang = 'th', pre_rules = pre_rules_th, post_rules=post_rules_th)\n",
    "processor = [TokenizeProcessor(tokenizer=tt, chunksize=10000, mark_fields=False),\n",
    "            NumericalizeProcessor(vocab=None, max_vocab=60000, min_freq=3)]"
   ]
  },
  {
   "cell_type": "code",
   "execution_count": 40,
   "metadata": {},
   "outputs": [],
   "source": [
    "data = (ItemLists(model_path, \n",
    "    TextList.from_df(train_df, model_path, cols=['texts'], processor=processor),\n",
    "    TextList.from_df(valid_df, model_path, cols=['texts'], processor=processor))\n",
    "    .label_for_lm()\n",
    "    .add_test(TextList.from_df(test_df, model_path, cols=['texts'], processor=processor))\n",
    "    .databunch(bs=64))\n",
    "data.sanity_check()"
   ]
  },
  {
   "cell_type": "code",
   "execution_count": null,
   "metadata": {},
   "outputs": [],
   "source": [
    "%time\n",
    "data.save(f\"{lang}wiki_lm_data.pkl\")"
   ]
  },
  {
   "cell_type": "code",
   "execution_count": 6,
   "metadata": {},
   "outputs": [
    {
     "data": {
      "text/plain": [
       "(20496, 491, 476)"
      ]
     },
     "execution_count": 6,
     "metadata": {},
     "output_type": "execute_result"
    }
   ],
   "source": [
    "%time\n",
    "data = load_data(model_path,\"{lang}wiki_lm_data.pkl\")\n",
    "data.sanity_check()\n",
    "len(data.train_ds), len(data.valid_ds), len(data.test_ds)"
   ]
  },
  {
   "cell_type": "code",
   "execution_count": 42,
   "metadata": {},
   "outputs": [
    {
     "data": {
      "text/html": [
       "<table border=\"1\" class=\"dataframe\">\n",
       "  <thead>\n",
       "    <tr style=\"text-align: right;\">\n",
       "      <th>idx</th>\n",
       "      <th>text</th>\n",
       "    </tr>\n",
       "  </thead>\n",
       "  <tbody>\n",
       "    <tr>\n",
       "      <td>0</td>\n",
       "      <td>ที่ บ้าน คุณตา คุณยาย   ขณะที่ หยุดพัก ใต้ ร่มไม้ ใหญ่ ชายป่า   เกิด เจ็บท้อง กะทันหัน   และ ได้ คลอด บุตรชาย ออกมา   จึง ได้ ตั้ง ชื่อว่า   “ เด็กชาย พัก ”   \\n   \\n   บรรพชา และ อุปสมบท .   \\n   เมื่อ อายุ   ๘   ขวบ   โยม บิดา ได้ พา เข้า กรุง เทพ</td>\n",
       "    </tr>\n",
       "    <tr>\n",
       "      <td>1</td>\n",
       "      <td>ถ่ายทำ พร้อมกับ เรื่อง   \"อ เวน เจอ ร์ส:   มหา สงคราม ล้าง จักรวาล \"   และ ถ่ายทำ เสร็จสิ้น ใน เดือน มกราคม   ค.ศ.   2018   ชื่อเรื่อง   xxmaj avengers :   xxmaj xxunk   เปิดเผย อย่างเป็นทางการ ใน ตัวอย่าง ภาพยนตร์ ที่ เผยแพร่ ใน เดือน ธันวาคม   2018   \\n   \\n   อ เวน เจอ ร์ส:</td>\n",
       "    </tr>\n",
       "    <tr>\n",
       "      <td>2</td>\n",
       "      <td>\\n   \\n   พลัง ศักติ ของ พระองค์ :   ผู้ ที่ นับถือ บูชา เทวี องค์ นี้ จะ ได้รับ พร จาก พระ ส กันทะ   ( หรือ ที่ เรียก ว่า   กร รติ เก ยะ )   เทพ แห่ง สงคราม   \\n   \\n   ประวัติ ความเป็นมา ของ พระองค์ :   พระองค์ ถือกำเนิด มา เพื่อ มา ปราบ อสูร ที่ มี</td>\n",
       "    </tr>\n",
       "    <tr>\n",
       "      <td>3</td>\n",
       "      <td>นิ้ว )   ใกล้ กับ แหลม   xxmaj xxunk   และ กองทัพเรือ ฟินแลนด์ ได้ รวม รวม กองเรือ ตอร์ปิโด มอเตอร์   ( xxmaj motor   xxmaj xxunk   xxmaj boat )   ที่   2   กับ เรือ xxunk   xxup xxunk 9,   xxup xxunk 10,   xxup xxunk 11   และ   xxup</td>\n",
       "    </tr>\n",
       "    <tr>\n",
       "      <td>4</td>\n",
       "      <td>แสดง ทัศนะ ด้าน การเมือง   ศาสนา   หรือ คำคม ส่วนตัว   โดย พิมพ์ ไว้ บน เสื้อ ใน   เป็นเหตุให้ คณะกรรมการ สมาคม ฟุตบอล ระหว่างประเทศ ออก กฎ ใน ปี   ค.ศ.   2002   ห้าม มี การเขียน หรือ โล โก้ ใด บน เสื้อ ใน   จนกระทั่ง ใน ปี   ค.ศ.   2004   ได้ เพิ่ม กฎ ห้าม ผู้ เล่น ถอด เสื้อ</td>\n",
       "    </tr>\n",
       "  </tbody>\n",
       "</table>"
      ],
      "text/plain": [
       "<IPython.core.display.HTML object>"
      ]
     },
     "metadata": {},
     "output_type": "display_data"
    }
   ],
   "source": [
    "data.show_batch(5)"
   ]
  },
  {
   "cell_type": "code",
   "execution_count": 43,
   "metadata": {},
   "outputs": [
    {
     "data": {
      "text/plain": [
       "[tensor([[    2,     8,    63,  ...,    76,  3053,     8],\n",
       "         [  211,  3310,   786,  ...,    19,   426,     8],\n",
       "         [14105,    41,     8,  ...,     9,     8,     9],\n",
       "         ...,\n",
       "         [   62,     8,   468,  ...,    29,  1854,    74],\n",
       "         [   23,     8,     4,  ...,     4,  5479,     8],\n",
       "         [   12,     0,   302,  ...,   302,  8087,    21]], device='cuda:0'),\n",
       " tensor([[    8,    63, 11912,  ...,  3053,     8,   387],\n",
       "         [ 3310,   786,     8,  ...,   426,     8,  1995],\n",
       "         [   41,     8,   328,  ...,     8,     9,     8],\n",
       "         ...,\n",
       "         [    8,   468,     8,  ...,  1854,    74,  1854],\n",
       "         [    8,     4, 12691,  ...,  5479,     8,    21],\n",
       "         [    0,   302,    98,  ...,  8087,    21,    17]], device='cuda:0')]"
      ]
     },
     "execution_count": 43,
     "metadata": {},
     "output_type": "execute_result"
    }
   ],
   "source": [
    "next(iter(data.test_dl))"
   ]
  },
  {
   "cell_type": "code",
   "execution_count": 44,
   "metadata": {},
   "outputs": [],
   "source": [
    "pickle.dump(data.vocab.itos, open(f'{model_path}models/thwiki_itos.pkl','wb'))"
   ]
  },
  {
   "cell_type": "markdown",
   "metadata": {},
   "source": [
    "### Vocab"
   ]
  },
  {
   "cell_type": "code",
   "execution_count": 7,
   "metadata": {},
   "outputs": [
    {
     "data": {
      "text/plain": [
       "[10211, 7232, 1363]"
      ]
     },
     "execution_count": 7,
     "metadata": {},
     "output_type": "execute_result"
    }
   ],
   "source": [
    "vocab_lm = data.vocab\n",
    "vocab_lm.numericalize(word_tokenize('สวัสดีครับพี่น้อง', engine='ulmfit'))"
   ]
  },
  {
   "cell_type": "code",
   "execution_count": 8,
   "metadata": {},
   "outputs": [
    {
     "data": {
      "text/plain": [
       "'สวัสดี ครับ พี่น้อง'"
      ]
     },
     "execution_count": 8,
     "metadata": {},
     "output_type": "execute_result"
    }
   ],
   "source": [
    "vocab_lm.textify([10211, 7232, 1363])"
   ]
  },
  {
   "cell_type": "markdown",
   "metadata": {},
   "source": [
    "## Language Modeling\n",
    "\n",
    "We train the language model according to the [ULMFit paper](https://arxiv.org/abs/1801.06146). We use the name hyperparameters as [n-waves/ulmfit-multilingual](https://github.com/n-waves/ulmfit-multilingual)."
   ]
  },
  {
   "cell_type": "code",
   "execution_count": 9,
   "metadata": {},
   "outputs": [],
   "source": [
    "config = dict(emb_sz=400, n_hid=1550, n_layers=4, pad_token=1, qrnn=False, tie_weights=True, out_bias=True,\n",
    "             output_p=0.25, hidden_p=0.1, input_p=0.2, embed_p=0.02, weight_p=0.15)\n",
    "trn_args = dict(drop_mult=0.9, clip=0.12, alpha=2, beta=1)\n",
    "\n",
    "learn = language_model_learner(data, AWD_LSTM, config=config, pretrained=False, **trn_args)\n",
    "learn.opt_fn = partial(optim.Adam, betas=(0.8, 0.99))\n",
    "learn.callback_fns += [partial(CSVLogger, filename=\"logs\")]"
   ]
  },
  {
   "cell_type": "code",
   "execution_count": 10,
   "metadata": {},
   "outputs": [
    {
     "data": {
      "text/html": [],
      "text/plain": [
       "<IPython.core.display.HTML object>"
      ]
     },
     "metadata": {},
     "output_type": "display_data"
    },
    {
     "name": "stdout",
     "output_type": "stream",
     "text": [
      "LR Finder is complete, type {learner_name}.recorder.plot() to see the graph.\n",
      "Min numerical gradient: 2.09E-03\n"
     ]
    },
    {
     "data": {
      "image/png": "[encoded data removed]",
      "text/plain": [
       "<Figure size 432x288 with 1 Axes>"
      ]
     },
     "metadata": {
      "needs_background": "light"
     },
     "output_type": "display_data"
    }
   ],
   "source": [
    "learn.lr_find()\n",
    "learn.recorder.plot()"
   ]
  },
  {
   "cell_type": "code",
   "execution_count": 50,
   "metadata": {},
   "outputs": [],
   "source": [
    "# learn.freeze_to(-1)\n",
    "# learn.fit_one_cycle(1, 1e-2, moms=(0.8, 0.7))"
   ]
  },
  {
   "cell_type": "code",
   "execution_count": null,
   "metadata": {},
   "outputs": [],
   "source": [
    "# learn.unfreeze()\n",
    "# learn.fit_one_cycle(10, 1e-3, moms=(0.8, 0.7))"
   ]
  },
  {
   "cell_type": "markdown",
   "metadata": {},
   "source": [
    "| epoch | train_loss | valid_loss | accuracy |\n",
    "|-------|------------|------------|----------|\n",
    "| 1     | 5.689881   | 5.479321   | 0.176962 |\n",
    "| 2     | 5.14165    | 4.914922   | 0.223256 |\n",
    "| 3     | 4.945699   | 4.661891   | 0.242748 |\n",
    "| 4     | 4.708307   | 4.471861   | 0.261348 |\n",
    "| 5     | 4.636846   | 4.337728   | 0.273785 |\n",
    "| 6     | 4.487616   | 4.237517   | 0.285252 |\n",
    "| 7     | 4.370384   | 4.161622   | 0.293807 |\n",
    "| 8     | 4.291326   | 4.100852   | 0.30109  |\n",
    "| 9     | 4.267814   | 4.071167   | 0.303888 |\n",
    "| 10    | 4.217663   | 4.065733   | 0.304822 |"
   ]
  },
  {
   "cell_type": "code",
   "execution_count": 51,
   "metadata": {},
   "outputs": [],
   "source": [
    "# learn.unfreeze()\n",
    "# learn.fit_one_cycle(10, 1e-3/3, moms=(0.8, 0.7))"
   ]
  },
  {
   "cell_type": "markdown",
   "metadata": {},
   "source": [
    "| epoch | train_loss | valid_loss | accuracy |\n",
    "|-------|------------|------------|----------|\n",
    "| 1     | 4.179729   | 4.052608   | 0.304963 |\n",
    "| 2     | 4.16306    | 4.047963   | 0.305331 |\n",
    "| 3     | 4.184966   | 4.044866   | 0.305482 |\n",
    "| 4     | 4.218517   | 4.023499   | 0.307901 |\n",
    "| 5     | 4.183966   | 4.001536   | 0.310346 |\n",
    "| 6     | 4.165901   | 3.985509   | 0.312516 |\n",
    "| 7     | 4.091527   | 3.966779   | 0.315573 |\n",
    "| 8     | 4.078772   | 3.952682   | 0.317021 |\n",
    "| 9     | 4.020618   | 3.944576   | 0.318096 |\n",
    "| 10    | 4.043382   | 3.94425    | 0.317961 |"
   ]
  },
  {
   "cell_type": "code",
   "execution_count": null,
   "metadata": {},
   "outputs": [],
   "source": [
    "# learn.save('thwiki_lm')\n",
    "# learn.save_encoder('thwiki_enc')"
   ]
  },
  {
   "cell_type": "markdown",
   "metadata": {},
   "source": [
    "### Eyeballing Test\n",
    "We perform eyeballing test by having the model \"fill in the blanks\"."
   ]
  },
  {
   "cell_type": "code",
   "execution_count": 3,
   "metadata": {},
   "outputs": [],
   "source": [
    "from utils import *\n",
    "from fastai import *    \n",
    "from fastai.text import * \n",
    "from fastai.callbacks import CSVLogger\n",
    "data_path = 'th-all-unk/'\n",
    "model_path = 'thwiki_data/'\n",
    "\n",
    "#data\n",
    "data = load_data(model_path,'thwiki_lm_data.pkl')\n",
    "data.sanity_check()\n",
    "\n",
    "#lm\n",
    "config = dict(emb_sz=400, n_hid=1550, n_layers=4, pad_token=1, qrnn=False, tie_weights=True, out_bias=True,\n",
    "             output_p=0.25, hidden_p=0.1, input_p=0.2, embed_p=0.02, weight_p=0.15)\n",
    "trn_args = dict(drop_mult=0.9, clip=0.12, alpha=2, beta=1)\n",
    "\n",
    "learn = language_model_learner(data, AWD_LSTM, config=config, pretrained=False, **trn_args)\n",
    "learn.opt_fn = partial(optim.Adam, betas=(0.8, 0.99))\n",
    "\n",
    "#load weights\n",
    "learn.load('thwiki_lm');"
   ]
  },
  {
   "cell_type": "code",
   "execution_count": 24,
   "metadata": {},
   "outputs": [
    {
     "data": {
      "text/plain": [
       "'สวัสดีครับ พี่น้องเสื้อแดง=รองเท้าแดงเสื้อแดง(อังกฤษ:St.โก้)เป็นภาพยนตร์ไทยแนวตลก-แฟนตาซีออกฉายในปีพ.ศ.2544กำกับโดยยุทธนามุกดาสนิทนำแสดงโดยสันติสุขพรหมศิริ,สุวนันท์คงยิ่ง,สุรชัยจันทิมาธร,บุญชูสกุลเจริญสุข,สุกัญญาวงศ์สวัสดิ์,สุกัญญาไชยศิริ,วิยะดาอุมารินทร์,นิรุตติ์ศิริจรรยา,อุบลรัตน์ปิยะศิริ,สุรชัยจันทิมาธร,รัช'"
      ]
     },
     "execution_count": 24,
     "metadata": {},
     "output_type": "execute_result"
    }
   ],
   "source": [
    "learn.predict('สวัสดีครับ พี่น้องเสื้อ',100, sep='', temperature = 0.5)"
   ]
  },
  {
   "cell_type": "markdown",
   "metadata": {},
   "source": [
    "## Embeddings\n",
    "\n",
    "We extract the embedding layer of the encoder to be used in the same manner as `word2vec`. We can also create sentence vector by summing or averaging the vectors. For more details about `word2vec` use cases, see`word2vec_examples.ipynb`. Note that we use word vectors from `v0.1` since it was trained specifically for the purpose and has comparable dimensions to `fastText` embeddings."
   ]
  },
  {
   "cell_type": "markdown",
   "metadata": {},
   "source": [
    "### Extract"
   ]
  },
  {
   "cell_type": "code",
   "execution_count": 8,
   "metadata": {
    "ExecuteTime": {
     "end_time": "2018-01-24T17:14:19.257675Z",
     "start_time": "2018-01-24T17:14:19.219043Z"
    }
   },
   "outputs": [
    {
     "data": {
      "text/plain": [
       "(60003, 400)"
      ]
     },
     "execution_count": 8,
     "metadata": {},
     "output_type": "execute_result"
    }
   ],
   "source": [
    "#how we extracted the embeddings\n",
    "emb_weights = list(learn.model.named_parameters())[0][1]\n",
    "emb_np = to_np(emb_weights.data)\n",
    "emb_np.shape"
   ]
  },
  {
   "cell_type": "code",
   "execution_count": 33,
   "metadata": {},
   "outputs": [],
   "source": [
    "from gensim.models import KeyedVectors\n",
    "model = KeyedVectors.load_word2vec_format(f'{model_path}models/thai2vec.vec',binary=False,\n",
    "                                         unicode_errors = 'ignore')"
   ]
  },
  {
   "cell_type": "code",
   "execution_count": 35,
   "metadata": {},
   "outputs": [],
   "source": [
    "model.save_word2vec_format(f'{model_path}models/thai2vec.vec',f'{model_path}models/thai2vec.vocab',False)\n",
    "model.save_word2vec_format(f'{model_path}models/thai2vec.bin',None,True)"
   ]
  },
  {
   "cell_type": "markdown",
   "metadata": {},
   "source": [
    "## Document Vectors"
   ]
  },
  {
   "cell_type": "markdown",
   "metadata": {},
   "source": [
    "We can also get document vector from the language model by applying the encoder to a sentence."
   ]
  },
  {
   "cell_type": "code",
   "execution_count": 91,
   "metadata": {},
   "outputs": [],
   "source": [
    "device = torch.device(\"cuda\" if torch.cuda.is_available() else \"cpu\")\n",
    "tt = ThaiTokenizer()\n",
    "def document_vector(ss, learn, data):\n",
    "    s = tt.tokenizer(ss)\n",
    "    t = torch.tensor(data.vocab.numericalize(s), requires_grad=False).to(device)\n",
    "    m = learn.model[0].encoder.to(device)\n",
    "    res = m(t).mean(0).cpu().detach().numpy()\n",
    "    return(res)"
   ]
  },
  {
   "cell_type": "code",
   "execution_count": 93,
   "metadata": {},
   "outputs": [
    {
     "data": {
      "text/plain": [
       "array([ 0.066298,  0.307813,  0.246051,  0.008683, ..., -0.058363,  0.133258, -0.289954, -1.770246], dtype=float32)"
      ]
     },
     "execution_count": 93,
     "metadata": {},
     "output_type": "execute_result"
    }
   ],
   "source": [
    "ss = 'วันนี้วันดีปีใหม่'\n",
    "document_vector(ss,learn,data)"
   ]
  },
  {
   "cell_type": "code",
   "execution_count": 4,
   "metadata": {},
   "outputs": [
    {
     "data": {
      "text/plain": [
       "array([ 0.066298,  0.307813,  0.246051,  0.008683, ..., -0.058363,  0.133258, -0.289954, -1.770246], dtype=float32)"
      ]
     },
     "execution_count": 4,
     "metadata": {},
     "output_type": "execute_result"
    }
   ],
   "source": [
    "from pythainlp.ulmfit import *\n",
    "document_vector('วันนี้วันดีปีใหม่',learn,data)"
   ]
  },
  {
   "cell_type": "code",
   "execution_count": null,
   "metadata": {},
   "outputs": [],
   "source": []
  }
 ],
 "metadata": {
  "kernelspec": {
   "display_name": "Python 3",
   "language": "python",
   "name": "python3"
  },
  "language_info": {
   "codemirror_mode": {
    "name": "ipython",
    "version": 3
   },
   "file_extension": ".py",
   "mimetype": "text/x-python",
   "name": "python",
   "nbconvert_exporter": "python",
   "pygments_lexer": "ipython3",
   "version": "3.7.1"
  }
 },
 "nbformat": 4,
 "nbformat_minor": 2
}
